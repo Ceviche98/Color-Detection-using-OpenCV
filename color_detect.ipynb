{
 "cells": [
  {
   "cell_type": "markdown",
   "metadata": {},
   "source": [
    "#### Import some libraries"
   ]
  },
  {
   "cell_type": "code",
   "execution_count": 2,
   "metadata": {
    "colab": {},
    "colab_type": "code",
    "id": "XVRjOoF7dl0y"
   },
   "outputs": [],
   "source": [
    "import cv2\n",
    "import numpy as np \n",
    "import matplotlib.pyplot as plt\n",
    "%matplotlib inline"
   ]
  },
  {
   "cell_type": "markdown",
   "metadata": {},
   "source": [
    "### 1. Use this part of the code to save the values of the lower and upper values of HSV for the colours you want to detect"
   ]
  },
  {
   "cell_type": "code",
   "execution_count": 38,
   "metadata": {
    "colab": {},
    "colab_type": "code",
    "id": "so824Opjds8r"
   },
   "outputs": [],
   "source": [
    "video = cv2.VideoCapture(0)"
   ]
  },
  {
   "cell_type": "code",
   "execution_count": 39,
   "metadata": {
    "colab": {
     "base_uri": "https://localhost:8080/",
     "height": 1000
    },
    "colab_type": "code",
    "id": "m7vuqJREgo1a",
    "outputId": "c77612b4-034e-40e1-d6c3-38bf3d639765"
   },
   "outputs": [],
   "source": [
    "# In case of a video is while(video.isOpened()):\n",
    "def trackChaned(x):\n",
    "    pass\n",
    "#Create the tick bars to adjust the correct parameters to find the desired colors\n",
    "cv2.namedWindow(\"Trackbars\")\n",
    "cv2.createTrackbar(\"L-H\",\"Trackbars\",0,179,trackChaned)\n",
    "cv2.createTrackbar(\"L-S\",\"Trackbars\",0,255,trackChaned)\n",
    "cv2.createTrackbar(\"L-V\",\"Trackbars\",0,255,trackChaned)\n",
    "cv2.createTrackbar(\"U-H\",\"Trackbars\",0,179,trackChaned)\n",
    "cv2.createTrackbar(\"U-S\",\"Trackbars\",0,255,trackChaned)\n",
    "cv2.createTrackbar(\"U-V\",\"Trackbars\",0,255,trackChaned)\n",
    "\n",
    "# Read until video is completed\n",
    "while(True):\n",
    "    # Capture frame-by-frame\n",
    "    ret, frame = video.read()\n",
    "    \n",
    "    #Transform frame to HSV\n",
    "    frame_hsv=cv2.cvtColor(frame, cv2.COLOR_BGR2HSV)\n",
    "    \n",
    "    #Set the parameters for the colors with trackbars\n",
    "    l_h=cv2.getTrackbarPos(\"L-H\",\"Trackbars\")\n",
    "    l_s=cv2.getTrackbarPos(\"L-S\",\"Trackbars\")\n",
    "    l_v=cv2.getTrackbarPos(\"L-V\",\"Trackbars\")\n",
    "    u_h=cv2.getTrackbarPos(\"U-H\",\"Trackbars\")\n",
    "    u_s=cv2.getTrackbarPos(\"U-S\",\"Trackbars\")\n",
    "    u_v=cv2.getTrackbarPos(\"U-V\",\"Trackbars\")\n",
    "    \n",
    "    low=np.array([l_h,l_s,l_v])\n",
    "    high=np.array([u_h,u_s,u_v])\n",
    "    mask=cv2.inRange(frame_hsv,low,high)\n",
    "    cv2.imshow('Frame',frame)\n",
    "    cv2.imshow('Mask',mask)\n",
    "    \n",
    "    # Press Q on keyboard to  exit\n",
    "    if cv2.waitKey(25) & 0xFF == ord('q'):\n",
    "        break\n",
    "\n",
    "video.release()\n",
    "cv2.destroyAllWindows()"
   ]
  },
  {
   "cell_type": "markdown",
   "metadata": {},
   "source": [
    "### 2. Masks for colours selected"
   ]
  },
  {
   "cell_type": "code",
   "execution_count": 36,
   "metadata": {},
   "outputs": [],
   "source": [
    "video = cv2.VideoCapture(0)"
   ]
  },
  {
   "cell_type": "code",
   "execution_count": 37,
   "metadata": {},
   "outputs": [],
   "source": [
    "#Font for the text\n",
    "font=cv2.FONT_HERSHEY_COMPLEX\n",
    "\n",
    "\n",
    "# Read until video is completed\n",
    "while(True):\n",
    "    # Capture frame-by-frame\n",
    "    ret, frame = video.read()\n",
    "    \n",
    "    #Transform frame to HSV\n",
    "    frame_hsv=cv2.cvtColor(frame, cv2.COLOR_BGR2HSV)\n",
    "    \n",
    "    #Set the parameters for the colors you desire\n",
    "    \n",
    "    #BLUE\n",
    "    low_blue=np.array([95,120,120])\n",
    "    upper_blue=np.array([135,255,255])\n",
    "    mask_blue=cv2.inRange(frame_hsv,low_blue,upper_blue)\n",
    "    \n",
    "    #GREEN\n",
    "    low_green=np.array([45,80,120])\n",
    "    upper_green=np.array([91,255,255])\n",
    "    mask_green=cv2.inRange(frame_hsv,low_green,upper_green)\n",
    "    \n",
    "    #RED\n",
    "    low_red1=np.array([0,120,120])\n",
    "    upper_red1=np.array([15,255,255])\n",
    "    mask_red1=cv2.inRange(frame_hsv,low_red1,upper_red1)\n",
    "    \n",
    "    low_red2=np.array([160,120,95])\n",
    "    upper_red2=np.array([179,255,255])\n",
    "    mask_red2=cv2.inRange(frame_hsv,low_red2,upper_red2)\n",
    "    \n",
    "    mask_red=mask_red1+mask_red2\n",
    "    \n",
    "    cv2.imshow('Frame',frame)\n",
    "    cv2.imshow('Mask_b',mask_blue)\n",
    "    cv2.imshow('Mask_g',mask_green)\n",
    "    cv2.imshow('Mask_r',mask_red)\n",
    " \n",
    "    # Press Q on keyboard to  exit\n",
    "    if cv2.waitKey(25) & 0xFF == ord('q'):\n",
    "        break\n",
    "\n",
    "video.release()\n",
    "cv2.destroyAllWindows()"
   ]
  },
  {
   "cell_type": "markdown",
   "metadata": {},
   "source": [
    "### 3. Final results"
   ]
  },
  {
   "cell_type": "markdown",
   "metadata": {},
   "source": [
    "This code opens your webcam and shows the results of color and edge detection. If you want to record a video, press **\"W\"**. When you want to finish the video press **\"Q\"**. The normal video will be saved as **inputpy.mp4** and the result as **outpy.mp4**"
   ]
  },
  {
   "cell_type": "code",
   "execution_count": 32,
   "metadata": {},
   "outputs": [],
   "source": [
    "video = cv2.VideoCapture(0)"
   ]
  },
  {
   "cell_type": "code",
   "execution_count": 33,
   "metadata": {},
   "outputs": [],
   "source": [
    "#Font for the text\n",
    "font=cv2.FONT_HERSHEY_COMPLEX\n",
    "fourcc =cv2.VideoWriter_fourcc(*'mp4v') \n",
    "frame_width = int(video.get(3))\n",
    "frame_height = int(video.get(4))\n",
    "# Define the codec and create VideoWriter object.The output is stored in 'outpy.mp4' file.\n",
    "out2 = cv2.VideoWriter('outpy.mp4',fourcc, 15, (frame_width,frame_height))\n",
    "out1 = cv2.VideoWriter('inputpy.mp4',fourcc, 15, (frame_width,frame_height))\n",
    "flag=0\n",
    "# Read until video is completed\n",
    "while(True):\n",
    "    # Capture frame-by-frame\n",
    "    ret, frame = video.read()\n",
    "    if cv2.waitKey(25) & 0xFF == ord('w'):\n",
    "        flag=1\n",
    "        \n",
    "    if flag==1:\n",
    "            out1.write(frame)\n",
    "            \n",
    "    if ret==True:\n",
    "        #Transform frame to HSV\n",
    "        frame_hsv=cv2.cvtColor(frame, cv2.COLOR_BGR2HSV)\n",
    "\n",
    "        #Set the parameters for the colors you desire\n",
    "\n",
    "        #BLUE\n",
    "        low_blue=np.array([95,120,120])\n",
    "        upper_blue=np.array([135,255,255])\n",
    "        mask_blue=cv2.inRange(frame_hsv,low_blue,upper_blue)\n",
    "\n",
    "        #GREEN\n",
    "        low_green=np.array([45,80,120])\n",
    "        upper_green=np.array([91,255,255])\n",
    "        mask_green=cv2.inRange(frame_hsv,low_green,upper_green)\n",
    "\n",
    "        #RED\n",
    "        low_red1=np.array([0,120,120])\n",
    "        upper_red1=np.array([15,255,255])\n",
    "        mask_red1=cv2.inRange(frame_hsv,low_red1,upper_red1)\n",
    "\n",
    "        low_red2=np.array([160,120,95])\n",
    "        upper_red2=np.array([179,255,255])\n",
    "        mask_red2=cv2.inRange(frame_hsv,low_red2,upper_red2)\n",
    "\n",
    "        mask_red=mask_red1+mask_red2\n",
    "\n",
    "        #Iterate over mask and display contour\n",
    "        list_masks=[mask_blue,mask_green,mask_red]\n",
    "        for i,mask in enumerate(list_masks):\n",
    "\n",
    "            #Detect contour for the current mask\n",
    "            contours, _=cv2.findContours(mask,cv2.RETR_TREE,cv2.CHAIN_APPROX_SIMPLE)\n",
    "            for cnt in contours:\n",
    "                #Find the area of the contour to filter some small blue images\n",
    "                area=cv2.contourArea(cnt)\n",
    "                #Make an approximation of the contour\n",
    "                new_contour=cv2.approxPolyDP(cnt,0.01*cv2.arcLength(cnt,True),True)\n",
    "\n",
    "                if area>500:\n",
    "\n",
    "                    M = cv2.moments(cnt)\n",
    "                    x = int(M[\"m10\"] / M[\"m00\"])\n",
    "                    y = int(M[\"m01\"] / M[\"m00\"])\n",
    "                    cv2.drawContours(frame,[new_contour],0,(0,0,0),5)\n",
    "                    #Including the text in the centroid of the contour\n",
    "                    if i==0:\n",
    "                        cv2.putText(frame, \"BLUE\",(x,y),font,1,(0,0,0))\n",
    "                    elif i==1:\n",
    "                        cv2.putText(frame, \"GREEN\",(x,y),font,1,(0,0,0))\n",
    "                    else:\n",
    "                        cv2.putText(frame, \"RED\",(x,y),font,1,(0,0,0))\n",
    "\n",
    "        cv2.imshow('Frame',frame)\n",
    "        cv2.imshow('Mask_b',mask_blue)\n",
    "        cv2.imshow('Mask_g',mask_green)\n",
    "        cv2.imshow('Mask_r',mask_red)\n",
    "        if flag==1:\n",
    "            out2.write(frame)\n",
    "    else:\n",
    "        break\n",
    "    # Press Q on keyboard to  exit\n",
    "    if cv2.waitKey(25) & 0xFF == ord('q'):\n",
    "        break\n",
    "out1.release()\n",
    "out2.release()\n",
    "video.release()\n",
    "cv2.destroyAllWindows()"
   ]
  },
  {
   "cell_type": "code",
   "execution_count": null,
   "metadata": {},
   "outputs": [],
   "source": []
  }
 ],
 "metadata": {
  "colab": {
   "name": "color_detect.ipynb",
   "provenance": []
  },
  "kernelspec": {
   "display_name": "Python 3",
   "language": "python",
   "name": "python3"
  },
  "language_info": {
   "codemirror_mode": {
    "name": "ipython",
    "version": 3
   },
   "file_extension": ".py",
   "mimetype": "text/x-python",
   "name": "python",
   "nbconvert_exporter": "python",
   "pygments_lexer": "ipython3",
   "version": "3.7.6"
  }
 },
 "nbformat": 4,
 "nbformat_minor": 1
}
